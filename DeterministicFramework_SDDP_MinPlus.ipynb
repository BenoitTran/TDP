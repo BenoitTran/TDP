{
 "cells": [
  {
   "cell_type": "markdown",
   "metadata": {},
   "source": [
    "The code needs a licence of Mosek (a free academic one works). The code was updated for Julia 1.7.3.\n",
    "\n",
    "In my opinion, the simplest way to have a running version of Mosek for Julia, is to install the Mosek.jl package (https://github.com/MOSEK/Mosek.jl) which will install a local version of Mosek, then get an academic licence (https://www.mosek.com/products/academic-licenses/).\n",
    "\n",
    "The list of needed packages is just below as well."
   ]
  },
  {
   "cell_type": "code",
   "execution_count": 1,
   "metadata": {},
   "outputs": [],
   "source": [
    "using LinearAlgebra, JuMP, MosekTools, ProgressMeter, Distributions, Plots"
   ]
  },
  {
   "cell_type": "markdown",
   "metadata": {},
   "source": [
    "## Data Generation"
   ]
  },
  {
   "cell_type": "code",
   "execution_count": 2,
   "metadata": {},
   "outputs": [
    {
     "data": {
      "text/plain": [
       "DataGenerationSDDP (generic function with 1 method)"
      ]
     },
     "execution_count": 2,
     "metadata": {},
     "output_type": "execute_result"
    }
   ],
   "source": [
    "function DataGenerationSDDP(dx ,du1, du2, T)\n",
    "    A = Array{Array{Float64,2}}(undef, T); # T-Array of matrices\n",
    "    B1 = Array{Array{Float64,2}}(undef, T);\n",
    "    B2 = Array{Array{Float64,2}}(undef, T);\n",
    "    C = Array{Array{Float64,2},1}(undef, T);\n",
    "    D1 = Array{Array{Float64,2},1}(undef, T);\n",
    "    D2 = Array{Array{Float64,2},1}(undef, T);\n",
    "    for t = 1:T\n",
    "        eps = 1.0;\n",
    "        Atmp = rand(dx,dx) + 1*I(dx);\n",
    "        A[t] = Atmp / (maximum(abs.(eigvals(Atmp))) + 0.01); # max eigenvalue < 1\n",
    "#        A[t] = 3*Atmp / (maximum(abs(eigvals(Atmp))) + 0.01);\n",
    "        B1[t] = rand(dx,du1);\n",
    "        B2[t] = rand(dx,du2);\n",
    "        Ctmp = rand(dx,dx);\n",
    "        C[t] = Ctmp'*Ctmp;\n",
    "        Dtmp = LowerTriangular(rand(du1,du1) .+ 0.01); # positive coeff on the diag. (a.s)\n",
    "#        D1[t] = Dtmp'*Dtmp;\n",
    "        D1[t] = I(du1);\n",
    "        Dtmp = LowerTriangular(rand(du2,du2) .+ 0.01);\n",
    "#        D2[t] = Dtmp'*Dtmp;\n",
    "        D2[t] = Dtmp'*Dtmp + eps*I(du2);\n",
    "    end\n",
    "    return(A, B1, B2, C, D1, D2)\n",
    "end"
   ]
  },
  {
   "cell_type": "code",
   "execution_count": 3,
   "metadata": {},
   "outputs": [
    {
     "data": {
      "text/plain": [
       "FixedGenerationSDDP (generic function with 1 method)"
      ]
     },
     "execution_count": 3,
     "metadata": {},
     "output_type": "execute_result"
    }
   ],
   "source": [
    "function FixedGenerationSDDP(dx ,du1, du2, T)\n",
    "    # f(x,u) = Ax + B1*u1 + B2*u2\n",
    "    # c(x, u) = x^T C x + u_1^T D1 u_1 + u_2^T D2 u_2\n",
    "    A = Array{Array{Float64,2}}(undef, T);\n",
    "    B1 = Array{Array{Float64,2}}(undef, T);\n",
    "    B2 = Array{Array{Float64,2}}(undef, T);\n",
    "    C = Array{Array{Float64,2}}(undef, T);\n",
    "    D1 = Array{Array{Float64,2}}(undef, T);\n",
    "    D2 = Array{Array{Float64,2}}(undef, T);\n",
    "\n",
    "    for t = 1:(T)\n",
    "        eps = 0.1;\n",
    "        A[t] = I(dx)*(1-eps);\n",
    "#        A[t][1,1] = 2;\n",
    "\n",
    "        B1[t] = ones(dx,du1);\n",
    "\n",
    "        # B2[t] = eps*ones(dx,du2);\n",
    "        B2[t] = ones(dx,du2);\n",
    "\n",
    "        C[t] = 0.1*I(dx);\n",
    "\n",
    "        D1[t] = 0.1*I(du1);\n",
    "\n",
    "        D2[t] = 0.1*I(du2);\n",
    "    end\n",
    "    return(A, B1, B2, C, D1, D2)\n",
    "end\n"
   ]
  },
  {
   "cell_type": "code",
   "execution_count": 4,
   "metadata": {},
   "outputs": [
    {
     "data": {
      "text/plain": [
       "DeducedData"
      ]
     },
     "execution_count": 4,
     "metadata": {},
     "output_type": "execute_result"
    }
   ],
   "source": [
    "\"\"\"\n",
    "    From data adapted to a SDDP type problem with exactly one continuous control\n",
    "    which is constrained (the rest is unconstrained), construct the associated\n",
    "    data for the Qu type problem where the constrained control is discretized\n",
    "    according to a vector v.\n",
    "\"\"\"\n",
    "function DeducedData(A, B1, B2, C, D1, D2, v, N)\n",
    "    dx = length(A[1][1,:]);\n",
    "    du1 = length(B1[1][1,:]);\n",
    "    T = length(A);\n",
    "    AQu = Matrix{Matrix{Float64}}(undef, N,T);\n",
    "    BQu = Matrix{Matrix{Float64}}(undef, N,T); # One line = All control dynamic matrices for fixed switch.\n",
    "    CQu = Matrix{Matrix{Float64}}(undef, N,T); # One line = All space cost matrices for a given switch.\n",
    "    DQu = Matrix{Matrix{Float64}}(undef, N,T); # One line = All control cost matrices for a given switch.\n",
    "\n",
    "    for n = 1:N\n",
    "        for t = 1:T\n",
    "                AQu[n,t] = [A[t] B2[t]*v[n]; zeros(1, dx) 1];\n",
    "                BQu[n,t] = vcat(B1[t], zeros(1, du1));\n",
    "                CQu[n,t] = [C[t] zeros(dx); zeros(1,dx) v[n]'*D2[t]*v[n]];\n",
    "                DQu[n,t] = D1[t];\n",
    "        end\n",
    "    end\n",
    "    return(AQu, BQu, CQu, DQu)\n",
    "end\n"
   ]
  },
  {
   "cell_type": "markdown",
   "metadata": {},
   "source": [
    "## I] SDDP"
   ]
  },
  {
   "cell_type": "code",
   "execution_count": 33,
   "metadata": {},
   "outputs": [
    {
     "data": {
      "text/plain": [
       "BellmanSDDP"
      ]
     },
     "execution_count": 33,
     "metadata": {},
     "output_type": "execute_result"
    }
   ],
   "source": [
    "\"\"\"\n",
    "    Return opt. control and a cut at B_t( V_{t+1}^k )(x_t^k) for a given t.\n",
    "    B1 matrix in (unconstrained) u of the dynamics\n",
    "    B2 matrix in (constrained) u of the dynamics\n",
    "\"\"\"\n",
    "function BellmanSDDP(A, B1, B2, C, D1, D2, t, xt, Vtplus1, a, b; BOX = 100)\n",
    "    du1 = length(D1[t][1,:]); # Dimension of the unconstrained control space\n",
    "    du2 = length(D2[t][1,:]); # Dimension of the constrained control space\n",
    "    dx = length(xt); # We guess the dimension of the state space, dx.\n",
    "    l = length(Vtplus1); # We guess the current number of cuts.\n",
    "    Pb = Model(optimizer_with_attributes(Mosek.Optimizer, \"QUIET\" => true)); # Solver that solves QP.\n",
    "    @variable(Pb, a <= u2[1:du2] <= b)\n",
    "    @variable(Pb, x[1:dx])\n",
    "    @variable(Pb, u1[1:du1])\n",
    "    @constraint(Pb, test[i=1:dx], x[i] - xt[i] == 0)\n",
    "    @constraint(Pb, box_x[i=1:dx], -BOX <= x[i] <= BOX) # big Box constraint to enter the framework of SDDP\n",
    "    @constraint(Pb, box_u[j=1:du1], -BOX <= u1[j] <= BOX)\n",
    "    if t <= T-2\n",
    "            @variable(Pb, theta >= 0)\n",
    "        if l >= 2\n",
    "            @constraint(Pb, cuts[i=2:l], theta >= Vtplus1[i][1]'*(\n",
    "                A[t]*x + B1[t]*u1 + B2[t]*u2) + Vtplus1[i][2])\n",
    "        end\n",
    "        @objective(Pb, Min, x'*C[t]*x + u1'*D1[t]*u1 + u2'*D2[t]*u2 + theta)\n",
    "\n",
    "    else # t = T-1 and we compute B_{T-1}( V_T )(x_{T-1})\n",
    "        @objective(Pb, Min, x'*C[t]*x + u1'*D1[t]*u1 + u2'*D2[t]*u2 +\n",
    "            (A[t]*x + B1[t]*u1 + B2[t]*u2)'*Vtplus1*(A[t]*x + B1[t]*u1\n",
    "            + B2[t]*u2))\n",
    "    end\n",
    "    optimize!(Pb);\n",
    "    return(value.(u1), value.(u2), dual.(test),\n",
    "        objective_value(Pb)- sum(dual.(test).*xt))\n",
    "end"
   ]
  },
  {
   "cell_type": "code",
   "execution_count": 6,
   "metadata": {},
   "outputs": [
    {
     "data": {
      "text/plain": [
       "SDDP"
      ]
     },
     "execution_count": 6,
     "metadata": {},
     "output_type": "execute_result"
    }
   ],
   "source": [
    "\"\"\"\n",
    "One iteration of SDDP in the LQ framework.\n",
    "A, B1, B2, C, D1, D2 are problem data (array of matrices for the\n",
    "dynamics and controls)\n",
    "Vtplus1 is the set of functions building the current approximations.\n",
    "x0 is the starting point at time t=0.\n",
    "\"\"\" \n",
    "function SDDP(A, B1, B2, C, D1, D2, Vt, x0, a, b; constraint = false)\n",
    "    # We deduce the dimensions of the problems from the given data\n",
    "    T = length(A); # We guess T.\n",
    "    dx = length(A[1][1,:]); # We guess the dimension of the state space, dx.\n",
    "    du1 = length(B1[1][1,:]); # Dimension of the unconstrained control space.\n",
    "    du2 = length(B2[1][1,:]); # Dimension of the constrained control space.\n",
    "    NewCutSlopes = Array{Array{Float64,1}}(undef, T-1); # Slopes of the added cuts.\n",
    "    NewCutValuesAt0 = Array{Float64}(undef, T-1); # Values of the added cuts at 0.\n",
    "\n",
    "    # Forward pass\n",
    "    x = zeros(dx, T); # Contains an optimal trajectory for the current approx.\n",
    "    x[:, 1] = x0; # starting from x0.\n",
    "    for t = 1:(T-1)\n",
    "        utmp1, utmp2 = BellmanSDDP(A, B1, B2, C, D1, D2, t, x[:,t], Vt[t+1],\n",
    "            a, b);\n",
    "        x[:,t+1] = A[t]*x[:,t] + B1[t]*utmp1 + B2[t]*utmp2;\n",
    "        # We add some state constraints for the first few Iterations\n",
    "        # in order to avoid numerical issues (too high first few\n",
    "        # values)\n",
    "        if constraint == true\n",
    "            for i = 1:dx\n",
    "                if abs(x[i, t+1]) > 50\n",
    "                    x[i,t+1] = sign(x[i,t+1])*50\n",
    "                end\n",
    "            end\n",
    "        end\n",
    "    end\n",
    "    # Backward pass\n",
    "    for t = (T-1):-1:1\n",
    "        tmp1, tmp2, NewCutSlopes[t], NewCutValuesAt0[t] = BellmanSDDP(A,\n",
    "         B1, B2, C, D1, D2, t, x[:,t], Vt[t+1], a, b);\n",
    "    end\n",
    "\n",
    "    return(NewCutSlopes, NewCutValuesAt0, x)\n",
    "end\n"
   ]
  },
  {
   "cell_type": "markdown",
   "metadata": {},
   "source": [
    "## II] MinPlus"
   ]
  },
  {
   "cell_type": "code",
   "execution_count": 7,
   "metadata": {},
   "outputs": [
    {
     "data": {
      "text/plain": [
       "Riccati (generic function with 1 method)"
      ]
     },
     "execution_count": 7,
     "metadata": {},
     "output_type": "execute_result"
    }
   ],
   "source": [
    "\"\"\"\n",
    "Computes the Bellman image of a pure strict convex quadratic form V given the\n",
    " data matrices by A,B,C,D in the case where we compute it through\n",
    " Riccati's formula.\n",
    "\n",
    "Linear dynamic: Ax + Bu,\n",
    "Pure convex quadratic costs: x^T C x + u^T D u,\n",
    "Pure final quadratic cost: x^T Psi x,\n",
    "Pure stric convex quadratic form: x^T M x\n",
    "\"\"\"\n",
    "\n",
    "function Riccati(A,B,C,D, M)\n",
    "    d = length(A[:,1]);\n",
    "    return(A'*M*inv(I(d)+B*inv(D)*(B')*M)*A + C)\n",
    "end\n"
   ]
  },
  {
   "cell_type": "code",
   "execution_count": 8,
   "metadata": {},
   "outputs": [
    {
     "data": {
      "text/plain": [
       "UniformSphere"
      ]
     },
     "execution_count": 8,
     "metadata": {},
     "output_type": "execute_result"
    }
   ],
   "source": [
    "\"\"\"\n",
    "    Draw uniformly T points on the euclidean sphere of R^dx, with dx > 1.\n",
    "\n",
    "    Needs to use the package Distributions.\n",
    "\"\"\"\n",
    "function UniformSphere(dx,T)\n",
    "    tmp = rand(Normal(),dx,T);\n",
    "    v = 1 ./ sqrt.(sum(tmp.^2, dims=1));\n",
    "    return(tmp*Diagonal(reshape(v, length(v))))\n",
    "end\n"
   ]
  },
  {
   "cell_type": "code",
   "execution_count": 9,
   "metadata": {},
   "outputs": [
    {
     "data": {
      "text/plain": [
       "Qu (generic function with 1 method)"
      ]
     },
     "execution_count": 9,
     "metadata": {},
     "output_type": "execute_result"
    }
   ],
   "source": [
    "\"\"\"\n",
    "MinPlus algorithm, finite horizon, discrete time, finite number of switching control.\n",
    "\n",
    "\n",
    "Linear dynamic: Ax + Bu,\n",
    "Pure convex quadratic costs: x^T C x + u^T D u,\n",
    "Current approximations : F, one line of array of matrices.\n",
    "\n",
    "Returns an array of T values (NewV) and one line of matrices (NewF).\n",
    "\"\"\"\n",
    "\n",
    "# C'EST UNE PROCEDURE\n",
    "\n",
    "function Qu(A, B, C, D, Func, SwitchPreviousQuad)\n",
    "    T = length(A[1,:]); # We guess T.\n",
    "    dx = length(A[1,1][:,1]); # We guess the dimension of the state space, dx.\n",
    "    N = length(A[:,1]); # We guess the number of switching contorls, N.\n",
    "    NewF = Array{Any}(undef, T); # New quad forms that will be added (or not) B(q_i)\n",
    "    NewSwitches = zeros(Int64, T-1); # The optimal switches associated.\n",
    "    Index = zeros(Int64, T-1); # Index i of B(q_i)(x) (opt quad forms at t+1)\n",
    "\n",
    "    UniformDraw = UniformSphere(dx, T);\n",
    "    # We start at time t = T\n",
    "    TailleApproxActuelle = length(Func[T]);\n",
    "    DrawActuel = UniformDraw[:,T];\n",
    "    ValApproxActuelle = zeros(TailleApproxActuelle);\n",
    "    for indiceCollection = 1:TailleApproxActuelle\n",
    "        ValApproxActuelle[indiceCollection] = (DrawActuel'*Func[T][indiceCollection]*DrawActuel)[1];\n",
    "    end\n",
    "    index = findmin(ValApproxActuelle)[2];\n",
    "    NewF[T] = Func[T][index];\n",
    "\n",
    "    # We update backward in time, using that we updated (or not) at time t+1\n",
    "    for t = T-1:-1:1\n",
    "        if (NewF[t+1] in Func[t+1]) == false\n",
    "            Func[t+1] = vcat(Func[t+1],[NewF[t+1]]);\n",
    "            SwitchPreviousQuad[t+1] = hcat(SwitchPreviousQuad[t+1],\n",
    "             [NewSwitches[t+1], Index[t+1]]);\n",
    "        end\n",
    "        TailleApproxActuelle = length(Func[t+1]);\n",
    "        DrawActuel = UniformDraw[:,t];\n",
    "        ValImageApproxActuelle = zeros(TailleApproxActuelle);\n",
    "        ImageApproxActuelle = Array{Matrix{Float64}}(undef, TailleApproxActuelle);\n",
    "        SwitchingIndexes = zeros(Int64, TailleApproxActuelle);\n",
    "        for indiceCollection = 1:TailleApproxActuelle\n",
    "            # Contient image de l'approx actuelle par Bellman pour chaque switch (une fonction)\n",
    "            tampon = Array{Any}(undef, N);\n",
    "            # Contient valeurs au pts random de l'approx actuelle par Bellman\n",
    "            # pour chaque switch.\n",
    "            ValeurTmp = zeros(N);\n",
    "            for switch = 1:N\n",
    "                tampon[switch] = Riccati(A[switch,t], B[switch,t],\n",
    "                C[switch,t], D[switch,t], Func[t+1][indiceCollection]);\n",
    "                ValeurTmp[switch] = (DrawActuel'*tampon[switch]*DrawActuel)[1];\n",
    "            end\n",
    "            # On trouve meilleur switch pour la fct au temps t+1 fixee\n",
    "            ValImageApproxActuelle[indiceCollection], SwitchingIndexes[indiceCollection] = findmin(ValeurTmp);\n",
    "            # Et son image par Bellman\n",
    "            ImageApproxActuelle[indiceCollection] = tampon[SwitchingIndexes[indiceCollection]];\n",
    "        end\n",
    "        # On trouve l'indice Index[t] de la meilleure fonction\n",
    "        Index[t] = findmin(ValImageApproxActuelle)[2];\n",
    "        NewSwitches[t] = SwitchingIndexes[Index[t]];\n",
    "        NewF[t] = ImageApproxActuelle[Index[t]];\n",
    "    end\n",
    "\n",
    "    # We update at time 0 (encoded by 1)\n",
    "    if (NewF[1] in Func[1]) == false\n",
    "        Func[1] = vcat(Func[1],[NewF[1]]);\n",
    "        SwitchPreviousQuad[1] = hcat(SwitchPreviousQuad[1],\n",
    "         [NewSwitches[1], Index[1]]);\n",
    "    end\n",
    "end\n"
   ]
  },
  {
   "cell_type": "markdown",
   "metadata": {},
   "source": [
    "## MinPlus_SDDP"
   ]
  },
  {
   "cell_type": "code",
   "execution_count": 55,
   "metadata": {},
   "outputs": [
    {
     "data": {
      "text/plain": [
       "QuSDDPtogether (generic function with 1 method)"
      ]
     },
     "execution_count": 55,
     "metadata": {},
     "output_type": "execute_result"
    }
   ],
   "source": [
    "function QuSDDPtogether(N, dx, du1, T, time, x0, itermax, a, b)\n",
    "    println(\"-----------\")\n",
    "    # -----\n",
    "    # Data Generation\n",
    "    # -----\n",
    "    # A, B1, B2, C, D1, D2 = DataGenerationSDDP(dx ,du1, du2, T);\n",
    "     A, B1, B2, C, D1, D2 = FixedGenerationSDDP(dx, du1, du2, T);\n",
    "    # -----\n",
    "    # SDDP Initizalization\n",
    "    # -----\n",
    "    Vt = Array{Any}(undef, T); # Will contain the cuts building our approx.\n",
    "    MatTmp =  rand(dx,dx);\n",
    "    eps = 1.0;\n",
    "    timerSDDP = zeros(itermax)\n",
    "#    Vt[T] = eps*I(dx) + MatTmp'*MatTmp; # cost function at time T is known\n",
    "    Vt[T] = I(dx);\n",
    "    Trajectories = Array{Any}(undef, itermax+1);\n",
    "    traj = Matrix(undef, dx, T);\n",
    "    traj[:, 1] = x0;\n",
    "    for t = 1:(T-1)\n",
    "        # traj[:, t+1] = A[t]*traj[:, t];\n",
    "        traj[:, t+1] = x0;\n",
    "    end\n",
    "    Trajectories[1] = traj;\n",
    "    for t = (T-1):-1:1\n",
    "        Vt[t] = [[zeros(dx), -Inf]];\n",
    "    end\n",
    "\n",
    "    # -----\n",
    "    # Discretization of the constrained continuous control with N \"uniform\" points.\n",
    "    # -----\n",
    "    v = zeros(Float64, N);\n",
    "    v[1] = a;\n",
    "    for i = 1:(N-1)\n",
    "        v[i+1] = a + i*((b-a)/(N-1));\n",
    "    end\n",
    "\n",
    "    # -----\n",
    "    # Deduced data for Qu A, B, C, D, F, SwitchPreviousQuad\n",
    "    # -----\n",
    "    AQu, BQu, CQu, DQu = DeducedData(A, B1, B2, C, D1, D2, v, N)\n",
    "\n",
    "    # -----\n",
    "    # Qu initialization\n",
    "    # -----\n",
    "    F = Array{Any}(undef, T);\n",
    "    SwitchPreviousQuad = Array{Any}(undef, T);# Array of switches & index of next quad form\n",
    "    timerQu = zeros(itermax); # We save the time spent at each step.\n",
    "    TailleF0 = zeros(Int64, itermax); # length of the final set F0 at each step.\n",
    "    TailleF0[1] = 1;\n",
    "    #M = Inf*I(dx+1);\n",
    "    M = 500*I(dx+1) # FIND TRUE SEQUENCE OF CONStaNTs LIKE IN THE PROPOSITION\n",
    "    for t = 1:(T-1)\n",
    "        F[t] = [M]; # Technical issue, those elements don't serve any purpose.\n",
    "    end\n",
    "    F[T] = [[Vt[T] zeros(dx); zeros(1, dx) 0]]; # Final cost function put into R^(n+1)\n",
    "    # by the identity mapping.\n",
    "    for t = 1:T\n",
    "        SwitchPreviousQuad[t] = [\"Associated switch\", \"Index of quad at t+1\"];\n",
    "    end\n",
    "    # -----\n",
    "    # QuSDDP loop\n",
    "    # -----\n",
    "    println(\"SDDP-MinPlus Loop and plot generation\")\n",
    "    prog = Progress(itermax);\n",
    "    ImprovementIndexes = Array{Any}(undef, T);\n",
    "    for t = 1:T\n",
    "        ImprovementIndexes[t] = [1];\n",
    "    end\n",
    "    CurrentSize = zeros(Int64, T);\n",
    "    anim = @animate for k = 1:itermax\n",
    "        # Qu Loop & additional stuff for the plots\n",
    "        for t = 1:T\n",
    "            CurrentSize[t] = length(F[t]);\n",
    "        end\n",
    "        timerQu[k] = @elapsed begin\n",
    "            Qu(AQu, BQu, CQu, DQu, F, SwitchPreviousQuad);\n",
    "            for t = 1:T\n",
    "                if k != 1 && CurrentSize[t] != length(F[t])\n",
    "                    ImprovementIndexes[t] = vcat(ImprovementIndexes[t], k);\n",
    "                end\n",
    "            end\n",
    "            TailleF0[k] = length(F[1]);\n",
    "        end\n",
    "        # SDDP Loop & current optimal trajectory for the plots\n",
    "        timerSDDP[k] = @elapsed begin\n",
    "            # We add some state constraints for the first few Iterations\n",
    "            # in order to avoid numerical issues (too high first few\n",
    "            # values)\n",
    "            bool = false;\n",
    "            if k <= 2*dx\n",
    "                bool = true;\n",
    "            end\n",
    "            NewCutSlopes, NewCutValuesAt0, traj = SDDP(A, B1, B2, C, D1, D2, Vt, x0, a, b; constraint = bool);\n",
    "            Trajectories[k+1] = traj;\n",
    "            for t = 1:(T-1)\n",
    "                Vt[t] = hcat(Vt[t], [[NewCutSlopes[t], NewCutValuesAt0[t]]]);\n",
    "            end\n",
    "        end\n",
    "        # Plotting part, first a \"gap plot\", then heatmap&surface at given t.\n",
    "        # Gap plot\n",
    "        p1, p2 = PlotGap(traj, F, Vt, N);\n",
    "        # Heatmap\n",
    "        coord = [1, 2];\n",
    "        perturb = 5;\n",
    "        square = [\n",
    "            traj[:, time][coord[1]]- perturb, traj[:, time][coord[1]] + perturb,\n",
    "            traj[:, time][coord[2]] - perturb, traj[:, time][coord[2]] + perturb\n",
    "            ];\n",
    "        p3 = SuperHeatmap(traj, F, Vt, time, square, coord);\n",
    "        # # Surface plot\n",
    "        # p4 = SurfacePlot(x, F, Vt, coord);\n",
    "        l = @layout [ grid(2,1) a{0.5w} ]\n",
    "        plot(p1, p2, p3, layout = l)\n",
    "        # println(traj)\n",
    "        next!(prog)\n",
    "    end\n",
    "    gif(anim, \"Gap_Plots.gif\", fps = 2)\n",
    "\n",
    "    # Timers\n",
    "\n",
    "    plotTimerQu = plot(1:1:itermax, cumsum(timerQu), title = \"Time spent\",\n",
    "    label = \"MinPlus\", legend = :topleft, xlabel = \"Iterations\",\n",
    "        ylabel = \"Cummulative time spent (s)\");\n",
    "    plotTimerSDDP = plot!(1:1:itermax, cumsum(timerSDDP), label = \"SDDP\");\n",
    "    titleTimers = string(\"Time_Plots_\", N,\".pdf\")\n",
    "    savefig(plotTimerSDDP , titleTimers )\n",
    "    #sizesOfF = zeros(Int64, T-1);\n",
    "    #for t = 1:T-1\n",
    "    #    sizesOfF[t] = length(F[t]);\n",
    "    #end\n",
    "    \n",
    "#     # Saving Data\n",
    "#     save(\"Data.jld\",\n",
    "#         \"Set building Qu approximations\", F,\n",
    "#         \"Set building SDDP approximations\", Vt,\n",
    "#         \"Improvement Indexes\", ImprovementIndexes,\n",
    "#         \"Sizes of F\", sizesOfF,\n",
    "#         \"Number of discretizations\", N,\n",
    "#         \"Horizon T\", T,\n",
    "#         \"Lower bound on the constrained control\", a,\n",
    "#         \"Upper bound on the constrained control\", b,\n",
    "#         \"Dimension of x\", dx,\n",
    "#          \"Max iterations\", itermax,\n",
    "#         \"Dimension of unconstrained controls\", du1,\n",
    "#         \"Initial point\", x0,\n",
    "#         \"Specific chosen time for plots\", time,\n",
    "#         \"Timer SDDP\", timerSDDP,\n",
    "#         \"Timer Qu\", timerQu,\n",
    "#         \"Switching sequences\", SwitchPreviousQuad,\n",
    "#         \"Matrices A\", A,\n",
    "#         \"Matrices B1\", B1,\n",
    "#         \"Matrices B2\", B2,\n",
    "#         \"Matrices C\", C,\n",
    "#         \"Matrices D1\", D1,\n",
    "#         \"Matrices D2\", D2,\n",
    "#         \"Optimal trajectories for current approximations\", Trajectories)\n",
    "end\n"
   ]
  },
  {
   "cell_type": "markdown",
   "metadata": {},
   "source": [
    "## Plotting functions\n"
   ]
  },
  {
   "cell_type": "code",
   "execution_count": 51,
   "metadata": {},
   "outputs": [
    {
     "data": {
      "text/plain": [
       "PlotGap"
      ]
     },
     "execution_count": 51,
     "metadata": {},
     "output_type": "execute_result"
    }
   ],
   "source": [
    "\"\"\"\n",
    "INPUT\n",
    "x current optimal trajectory for the current outer approximation of the value\n",
    "    functions.\n",
    "F array of size T. Contains in each cell an array of matrices which are\n",
    "associated with the infimum (of pure quad forms) building Vt in Qu's algorithm.\n",
    "Vt array of size T. Contains in each celle a couple [slope, value_at_0] which\n",
    "are associated with the supremum (of affine cuts) building Vt in SDDP algo.\n",
    "\n",
    "OUTPUT\n",
    "A plot of the value of the approximations at points x_0^k, ..., x_T^k.\n",
    "\"\"\"\n",
    "function PlotGap(x, F, Vt, N)\n",
    "    valQu = zeros(Float64, T-1);\n",
    "    valSDDP = zeros(Float64, T-1);\n",
    "    Gaps = zeros(Float64, T-1);\n",
    "    for t = 1:(T-1)\n",
    "        valQu[t] = vcat(x[:,t], 1)'*F[t][2]*vcat(x[:,t], 1);\n",
    "        for i = 2:(length(F[t]) - 1)\n",
    "            valQu[t] = min(vcat(x[:,t],1)'*F[t][i+1]*vcat(x[:,t],1), valQu[t])[1];\n",
    "        end\n",
    "        #println(\"valQu at t = \", t, \"is equal to \", valQu[t])\n",
    "        valSDDP[t] = dot(Vt[t][2][1], x[:,t]) + Vt[t][2][2];\n",
    "        for i = 2:(length(Vt[t]) - 1)\n",
    "            valSDDP[t] = max(valSDDP[t],\n",
    "                dot(Vt[t][i+1][1], x[:,t]) + Vt[t][i+1][2])[1];\n",
    "        end\n",
    "        Gaps[t] = (valQu[t] - valSDDP[t])\n",
    "    end\n",
    "    titlestring = string(\"Iteration \", length(Vt[1]) - 1, \", N = \", N)\n",
    "    plotValeurs = plot(1:1:(T-1), (valQu), label = \"MinPlus\", w = 3, legend = :best, \n",
    "        title = titlestring, xlabel = \"Time step (t)\", ylabel = \"Values\");\n",
    "    plotValeurs = plot!(1:1:(T-1), (valSDDP), label = \"SDDP\", w = 3);\n",
    "    plotGaps = plot(1:1:(T-1), Gaps, leg = false, title =\n",
    "            \"Absolute gaps\", w = 4);\n",
    "    # Temporaire\n",
    "    if length(Vt[3]) == 21\n",
    "        titlespecial = string(\"Ex2_PlotGapSpecifique_\", N,\".pdf\")\n",
    "        savefig(plotValeurs, titlespecial)\n",
    "    end\n",
    "#      if length(Vt[3]) == 19\n",
    "#          savefig(plotValeurs, \"PlotGapSpecifique18.pdf\")\n",
    "#      end\n",
    "    \n",
    "#      if length(Vt[3]) == 61\n",
    "#          savefig(plotValeurs, \"PlotGapSpecifique60.pdf\")\n",
    "#      end \n",
    "    return(plotValeurs, plotGaps)\n",
    "end\n",
    "\n"
   ]
  },
  {
   "cell_type": "code",
   "execution_count": 12,
   "metadata": {},
   "outputs": [
    {
     "data": {
      "text/plain": [
       "SuperHeatmap (generic function with 1 method)"
      ]
     },
     "execution_count": 12,
     "metadata": {},
     "output_type": "execute_result"
    }
   ],
   "source": [
    "\"\"\"\n",
    "INPUT : The current optimal trajectory for the current SDDP approximation, traj.\n",
    "The sets F and Vt building respectively the upper and lower bounds.\n",
    "A specific time.\n",
    "An array, square = [a,b,c,d], caracterizing the square on which we will plot.\n",
    "Two coordinates on which we will project.\n",
    "\n",
    "OUTPUT : A heatmap of (a projection on a 2-diemnsional v.space of) Vt where\n",
    "there's also the current x_t^k.\n",
    "\"\"\"\n",
    "\n",
    "function SuperHeatmap(traj, F, Vt, time, square, coord)\n",
    "    stepsize = 0.5;\n",
    "    x1 = square[1]:stepsize:square[2];\n",
    "    x2 = square[3]:stepsize:square[4];\n",
    "    x = copy(traj[:, time]);\n",
    "    valQu = zeros( Float64, (length(x1),length(x2)) );\n",
    "    valSDDP = zeros( Float64, (length(x1),length(x2)) );\n",
    "\n",
    "    for i = 1:length(x1)\n",
    "        for j = 1:length(x2)\n",
    "            x[coord[1]] = x1[i];\n",
    "            x[coord[2]] = x2[j];\n",
    "\n",
    "            valQu[i,j] = vcat(x, 1)'*F[time][2]*vcat(x, 1);\n",
    "            for l = 2:(length(F[time]) - 1)\n",
    "                valQu[i,j] = min(vcat(x, 1)'*F[time][l+1]*vcat(x, 1),\n",
    "                    valQu[i,j])[1];\n",
    "            end\n",
    "\n",
    "            valSDDP[i,j] = dot(Vt[time][2][1], x) + Vt[time][2][2];\n",
    "            for l = 2:(length(Vt[time]) - 1)\n",
    "                valSDDP[i,j] = max(valSDDP[i,j],\n",
    "                    dot(Vt[time][l+1][1], x) + Vt[time][l+1][2])[1];\n",
    "            end\n",
    "        end\n",
    "    end\n",
    "    superHeatmap = heatmap(x1, x2, valQu - valSDDP, title =\n",
    "        \"2D log-gap projection\");\n",
    "    return(superHeatmap)\n",
    "end\n"
   ]
  },
  {
   "cell_type": "markdown",
   "metadata": {},
   "source": [
    "## Test"
   ]
  },
  {
   "cell_type": "code",
   "execution_count": 43,
   "metadata": {},
   "outputs": [],
   "source": [
    "# This is Example 1 in [Akian, Chancelier, Tran, A stochastic algorithm for deterministic multistage optimization problems]\n",
    "\n",
    "N = 5; # Cardinal of the set of discrete controls.\n",
    "dx = 100; # tate space dimension.\n",
    "du1 = 5; # Dimension of the unconstrained control space.\n",
    "T = 21; # Finite horizon setup. One less (there s no 0) than the theorical T.\n",
    "time = 3; # We will later plot the approximate value functions at this t;\n",
    "x0 = 0.2*ones(dx);\n",
    "itermax = 60;\n",
    "a = 1 ; b = 5; du2 = 1; # Contraintes sur UN contrôle continu, du2 = 1.\n",
    " "
   ]
  },
  {
   "cell_type": "code",
   "execution_count": 49,
   "metadata": {
    "scrolled": false
   },
   "outputs": [
    {
     "name": "stdout",
     "output_type": "stream",
     "text": [
      "-----------\n",
      "SDDP-MinPlus Loop and plot generation\n"
     ]
    },
    {
     "name": "stderr",
     "output_type": "stream",
     "text": [
      "\u001b[32mProgress: 100%|█████████████████████████████████████████| Time: 0:00:56\u001b[39m\n",
      "┌ Info: Saved animation to \n",
      "│   fn = /home/tranbe/Dropbox/these/jpc-ma-bt/Code/TDP_Deterministe/Gap_Plots.gif\n",
      "└ @ Plots /home/tranbe/.julia/packages/Plots/MzlNY/src/animation.jl:130\n"
     ]
    }
   ],
   "source": [
    "QuSDDPtogether(N, dx, du1, T, time, x0, itermax, a, b)"
   ]
  },
  {
   "cell_type": "code",
   "execution_count": 56,
   "metadata": {},
   "outputs": [
    {
     "name": "stdout",
     "output_type": "stream",
     "text": [
      "-----------\n",
      "SDDP-MinPlus Loop and plot generation\n"
     ]
    },
    {
     "name": "stderr",
     "output_type": "stream",
     "text": [
      "\u001b[32mProgress: 100%|█████████████████████████████████████████| Time: 0:00:18\u001b[39m\n"
     ]
    },
    {
     "name": "stdout",
     "output_type": "stream",
     "text": [
      "-----------\n",
      "SDDP-MinPlus Loop and plot generation\n"
     ]
    },
    {
     "name": "stderr",
     "output_type": "stream",
     "text": [
      "┌ Info: Saved animation to \n",
      "│   fn = /home/tranbe/Dropbox/these/jpc-ma-bt/Code/TDP_Deterministe/Gap_Plots.gif\n",
      "└ @ Plots /home/tranbe/.julia/packages/Plots/MzlNY/src/animation.jl:130\n",
      "\u001b[32mProgress: 100%|█████████████████████████████████████████| Time: 0:00:55\u001b[39m\n"
     ]
    },
    {
     "name": "stdout",
     "output_type": "stream",
     "text": [
      "-----------\n"
     ]
    },
    {
     "name": "stderr",
     "output_type": "stream",
     "text": [
      "┌ Info: Saved animation to \n",
      "│   fn = /home/tranbe/Dropbox/these/jpc-ma-bt/Code/TDP_Deterministe/Gap_Plots.gif\n",
      "└ @ Plots /home/tranbe/.julia/packages/Plots/MzlNY/src/animation.jl:130\n"
     ]
    },
    {
     "name": "stdout",
     "output_type": "stream",
     "text": [
      "SDDP-MinPlus Loop and plot generation\n"
     ]
    },
    {
     "name": "stderr",
     "output_type": "stream",
     "text": [
      "\u001b[32mProgress: 100%|█████████████████████████████████████████| Time: 0:01:51\u001b[39m\n",
      "┌ Info: Saved animation to \n",
      "│   fn = /home/tranbe/Dropbox/these/jpc-ma-bt/Code/TDP_Deterministe/Gap_Plots.gif\n",
      "└ @ Plots /home/tranbe/.julia/packages/Plots/MzlNY/src/animation.jl:130\n"
     ]
    }
   ],
   "source": [
    "# This is Example 2 in [Akian, Chancelier, Tran, A stochastic algorithm for deterministic multistage optimization problems]\n",
    "\n",
    "dx = 25; # state space dimension.\n",
    "du1 = 5; # Dimension of the unconstrained control space.\n",
    "T = 21; # Finite horizon setup. One less (there s no 0) than the theorical T.\n",
    "time = 3; # We will later plot the approximate value functions at this t;\n",
    "x0 = 0.2*ones(dx);\n",
    "itermax = 60;\n",
    "a = -3 ; b = 5; du2 = 1; # Contraintes sur UN contrôle continu, du2 = 1.\n",
    " \n",
    "for N in [5,20,100]\n",
    "    QuSDDPtogether(N, dx, du1, T, time, x0, itermax, a, b)\n",
    "end"
   ]
  }
 ],
 "metadata": {
  "kernelspec": {
   "display_name": "Julia 1.7.3",
   "language": "julia",
   "name": "julia-1.7"
  },
  "language_info": {
   "file_extension": ".jl",
   "mimetype": "application/julia",
   "name": "julia",
   "version": "1.7.3"
  }
 },
 "nbformat": 4,
 "nbformat_minor": 2
}
